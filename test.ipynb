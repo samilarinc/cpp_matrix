{
 "cells": [
  {
   "cell_type": "code",
   "execution_count": 4,
   "metadata": {},
   "outputs": [
    {
     "name": "stdout",
     "output_type": "stream",
     "text": [
      "Custom time: 0.21825220000027912\n",
      "Numpy time: 0.10369870000067749\n",
      "Speedup: 2.1046763363364556\n",
      "False\n"
     ]
    }
   ],
   "source": [
    "from MatrixOps import Operational1D as arr\n",
    "import numpy as np\n",
    "\n",
    "ls1 = [[1, 2, 3], [4, 5, 6], [7, 8, 10]]\n",
    "ls2 = [[1, 2, 3], [4, 5, 6], [7, 8, 10]]\n",
    "\n",
    "x = arr(ls1)\n",
    "y = np.array(ls2)\n",
    "\n",
    "from time import perf_counter\n",
    "\n",
    "start = perf_counter()\n",
    "for _ in range(10000):\n",
    "    x.inv()\n",
    "end = perf_counter()\n",
    "\n",
    "start2 = perf_counter()\n",
    "for _ in range(10000):\n",
    "    np.linalg.inv(y)\n",
    "end2 = perf_counter()\n",
    "\n",
    "print(\"Custom time:\", end - start)\n",
    "print(\"Numpy time:\", end2 - start2)\n",
    "print(\"Speedup:\", (end - start) / (end2 - start2))\n",
    "print(np.array(x) == np.array(x.copy()))"
   ]
  },
  {
   "cell_type": "code",
   "execution_count": 5,
   "metadata": {},
   "outputs": [],
   "source": [
    "z = np.array(x.copy())"
   ]
  },
  {
   "cell_type": "code",
   "execution_count": 10,
   "metadata": {},
   "outputs": [
    {
     "ename": "TypeError",
     "evalue": "len() of unsized object",
     "output_type": "error",
     "traceback": [
      "\u001b[0;31m---------------------------------------------------------------------------\u001b[0m",
      "\u001b[0;31mTypeError\u001b[0m                                 Traceback (most recent call last)",
      "\u001b[1;32m/mnt/c/Users/pc/OneDrive/Masaüstü/geçen dönemler/staj/MatrixOps/test.ipynb Cell 3\u001b[0m in \u001b[0;36m<cell line: 1>\u001b[0;34m()\u001b[0m\n\u001b[0;32m----> <a href='vscode-notebook-cell://wsl%2Bubuntu/mnt/c/Users/pc/OneDrive/Masa%C3%BCst%C3%BC/ge%C3%A7en%20d%C3%B6nemler/staj/MatrixOps/test.ipynb#ch0000002vscode-remote?line=0'>1</a>\u001b[0m \u001b[39mfor\u001b[39;00m i \u001b[39min\u001b[39;00m \u001b[39mrange\u001b[39m(\u001b[39mlen\u001b[39;49m(z)):\n\u001b[1;32m      <a href='vscode-notebook-cell://wsl%2Bubuntu/mnt/c/Users/pc/OneDrive/Masa%C3%BCst%C3%BC/ge%C3%A7en%20d%C3%B6nemler/staj/MatrixOps/test.ipynb#ch0000002vscode-remote?line=1'>2</a>\u001b[0m     \u001b[39mfor\u001b[39;00m j \u001b[39min\u001b[39;00m \u001b[39mrange\u001b[39m(\u001b[39mlen\u001b[39m(z[\u001b[39m0\u001b[39m])):\n\u001b[1;32m      <a href='vscode-notebook-cell://wsl%2Bubuntu/mnt/c/Users/pc/OneDrive/Masa%C3%BCst%C3%BC/ge%C3%A7en%20d%C3%B6nemler/staj/MatrixOps/test.ipynb#ch0000002vscode-remote?line=2'>3</a>\u001b[0m         \u001b[39mprint\u001b[39m(x[i][j] \u001b[39m==\u001b[39m z[i][j])\n",
      "\u001b[0;31mTypeError\u001b[0m: len() of unsized object"
     ]
    }
   ],
   "source": [
    "for i in range(len(z)):\n",
    "    for j in range(len(z[0])):\n",
    "        print(x[i][j] == z[i][j])"
   ]
  },
  {
   "cell_type": "code",
   "execution_count": 1,
   "metadata": {},
   "outputs": [],
   "source": [
    "class PowTwo:\n",
    "    \"\"\"Class to implement an iterator\n",
    "    of powers of two\"\"\"\n",
    "\n",
    "    def __init__(self, max=0):\n",
    "        self.max = max\n",
    "\n",
    "    def __iter__(self):\n",
    "        self.n = 0\n",
    "        return self\n",
    "\n",
    "    def __next__(self):\n",
    "        if self.n <= self.max:\n",
    "            result = 2 ** self.n\n",
    "            self.n += 1\n",
    "            return result\n",
    "        else:\n",
    "            raise StopIteration"
   ]
  },
  {
   "cell_type": "code",
   "execution_count": 3,
   "metadata": {},
   "outputs": [
    {
     "ename": "TypeError",
     "evalue": "object of type 'PowTwo' has no len()",
     "output_type": "error",
     "traceback": [
      "\u001b[0;31m---------------------------------------------------------------------------\u001b[0m",
      "\u001b[0;31mTypeError\u001b[0m                                 Traceback (most recent call last)",
      "\u001b[1;32m/mnt/c/Users/pc/OneDrive/Masaüstü/geçen dönemler/staj/MatrixOps/test.ipynb Cell 5\u001b[0m in \u001b[0;36m<cell line: 3>\u001b[0;34m()\u001b[0m\n\u001b[1;32m      <a href='vscode-notebook-cell://wsl%2Bubuntu/mnt/c/Users/pc/OneDrive/Masa%C3%BCst%C3%BC/ge%C3%A7en%20d%C3%B6nemler/staj/MatrixOps/test.ipynb#ch0000004vscode-remote?line=0'>1</a>\u001b[0m n \u001b[39m=\u001b[39m PowTwo(\u001b[39m5\u001b[39m)\n\u001b[0;32m----> <a href='vscode-notebook-cell://wsl%2Bubuntu/mnt/c/Users/pc/OneDrive/Masa%C3%BCst%C3%BC/ge%C3%A7en%20d%C3%B6nemler/staj/MatrixOps/test.ipynb#ch0000004vscode-remote?line=2'>3</a>\u001b[0m \u001b[39mlen\u001b[39;49m(n)\n",
      "\u001b[0;31mTypeError\u001b[0m: object of type 'PowTwo' has no len()"
     ]
    }
   ],
   "source": [
    "n = PowTwo(5)\n",
    "\n",
    "len(n)"
   ]
  },
  {
   "cell_type": "code",
   "execution_count": 15,
   "metadata": {},
   "outputs": [
    {
     "data": {
      "text/plain": [
       "1.000000 2.000000 3.000000 "
      ]
     },
     "execution_count": 15,
     "metadata": {},
     "output_type": "execute_result"
    }
   ],
   "source": [
    "x[0]"
   ]
  },
  {
   "cell_type": "code",
   "execution_count": null,
   "metadata": {},
   "outputs": [],
   "source": []
  }
 ],
 "metadata": {
  "kernelspec": {
   "display_name": "Python 3.10.4 ('bind')",
   "language": "python",
   "name": "python3"
  },
  "language_info": {
   "codemirror_mode": {
    "name": "ipython",
    "version": 3
   },
   "file_extension": ".py",
   "mimetype": "text/x-python",
   "name": "python",
   "nbconvert_exporter": "python",
   "pygments_lexer": "ipython3",
   "version": "3.10.4"
  },
  "orig_nbformat": 4,
  "vscode": {
   "interpreter": {
    "hash": "047636c5c6789469c82f0942174792e8230c45586b1ce712451e434a430daef9"
   }
  }
 },
 "nbformat": 4,
 "nbformat_minor": 2
}
