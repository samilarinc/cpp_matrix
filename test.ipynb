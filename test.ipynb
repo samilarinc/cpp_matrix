{
 "cells": [
  {
   "cell_type": "code",
   "execution_count": 2,
   "metadata": {},
   "outputs": [
    {
     "name": "stdout",
     "output_type": "stream",
     "text": [
      "Custom time: 0.057012700000086625\n",
      "Numpy time: 0.0031718000000182656\n",
      "Speedup: 17.974872312175517\n",
      "False\n"
     ]
    }
   ],
   "source": [
    "from MatrixOps import Operational1D as arr\n",
    "import numpy as np\n",
    "\n",
    "ls1 = [[1, 2, 3], [4, 5, 6], [7, 8, 10]]\n",
    "ls2 = [[1, 2, 3], [4, 5, 6], [7, 8, 10]]\n",
    "\n",
    "x = arr(ls1)\n",
    "y = np.array(ls2)\n",
    "\n",
    "from time import perf_counter\n",
    "\n",
    "start = perf_counter()\n",
    "for _ in range(10000):\n",
    "    x.copy()\n",
    "end = perf_counter()\n",
    "\n",
    "start2 = perf_counter()\n",
    "for _ in range(10000):\n",
    "    y.copy()\n",
    "end2 = perf_counter()\n",
    "\n",
    "print(\"Custom time:\", end - start)\n",
    "print(\"Numpy time:\", end2 - start2)\n",
    "print(\"Speedup:\", (end - start) / (end2 - start2))\n",
    "print(np.array(x) == np.array(x.copy()))"
   ]
  },
  {
   "cell_type": "code",
   "execution_count": 3,
   "metadata": {},
   "outputs": [],
   "source": [
    "z = x.copy()"
   ]
  },
  {
   "cell_type": "code",
   "execution_count": 6,
   "metadata": {},
   "outputs": [
    {
     "data": {
      "text/plain": [
       "True"
      ]
     },
     "execution_count": 6,
     "metadata": {},
     "output_type": "execute_result"
    }
   ],
   "source": [
    "for i in range(len(x)):\n",
    "    for j in range(len(x[0])):\n",
    "        print(x[i][j] == z[i][j])"
   ]
  },
  {
   "cell_type": "code",
   "execution_count": null,
   "metadata": {},
   "outputs": [],
   "source": []
  }
 ],
 "metadata": {
  "kernelspec": {
   "display_name": "Python 3.10.4 ('bind')",
   "language": "python",
   "name": "python3"
  },
  "language_info": {
   "codemirror_mode": {
    "name": "ipython",
    "version": 3
   },
   "file_extension": ".py",
   "mimetype": "text/x-python",
   "name": "python",
   "nbconvert_exporter": "python",
   "pygments_lexer": "ipython3",
   "version": "3.10.4"
  },
  "orig_nbformat": 4,
  "vscode": {
   "interpreter": {
    "hash": "047636c5c6789469c82f0942174792e8230c45586b1ce712451e434a430daef9"
   }
  }
 },
 "nbformat": 4,
 "nbformat_minor": 2
}
